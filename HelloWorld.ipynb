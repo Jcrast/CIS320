{
  "nbformat": 4,
  "nbformat_minor": 0,
  "metadata": {
    "colab": {
      "name": "HelloWorld.ipynb",
      "provenance": [],
      "collapsed_sections": [],
      "authorship_tag": "ABX9TyNEZo8WaI+2C+5lhcFIPIya",
      "include_colab_link": true
    },
    "kernelspec": {
      "name": "python3",
      "display_name": "Python 3"
    },
    "language_info": {
      "name": "python"
    }
  },
  "cells": [
    {
      "cell_type": "markdown",
      "metadata": {
        "id": "view-in-github",
        "colab_type": "text"
      },
      "source": [
        "<a href=\"https://colab.research.google.com/github/Jcrast/CIS320/blob/main/HelloWorld.ipynb\" target=\"_parent\"><img src=\"https://colab.research.google.com/assets/colab-badge.svg\" alt=\"Open In Colab\"/></a>"
      ]
    },
    {
      "cell_type": "code",
      "execution_count": null,
      "metadata": {
        "colab": {
          "base_uri": "https://localhost:8080/"
        },
        "id": "NYtmJkXdQ4t2",
        "outputId": "c7a3340b-bd50-412f-f77e-89cdedfeca02"
      },
      "outputs": [
        {
          "output_type": "stream",
          "name": "stdout",
          "text": [
            "Hello World\n",
            "Yay!\n"
          ]
        }
      ],
      "source": [
        "print('Hello World')\n",
        "print('Yay!')"
      ]
    },
    {
      "cell_type": "markdown",
      "source": [
        "# Welcome to my Hello World page!"
      ],
      "metadata": {
        "id": "c1RWHQb-RNm2"
      }
    }
  ]
}